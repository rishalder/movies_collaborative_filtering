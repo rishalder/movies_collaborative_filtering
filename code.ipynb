{
 "cells": [
  {
   "cell_type": "code",
   "execution_count": 36,
   "metadata": {},
   "outputs": [
    {
     "name": "stderr",
     "output_type": "stream",
     "text": [
      "/var/folders/w6/pmmfklps59z60whl_87vd6gm0000gn/T/ipykernel_63540/938889069.py:5: DtypeWarning: Columns (10) have mixed types. Specify dtype option on import or set low_memory=False.\n",
      "  df2 = pd.read_csv('movies_metadata.csv')\n"
     ]
    }
   ],
   "source": [
    "import pandas as pd\n",
    "\n",
    "# Load the datasets\n",
    "df1 = pd.read_csv('keywords.csv')\n",
    "df2 = pd.read_csv('movies_metadata.csv')"
   ]
  },
  {
   "cell_type": "code",
   "execution_count": 92,
   "metadata": {},
   "outputs": [
    {
     "data": {
      "text/plain": [
       "(46486, 25)"
      ]
     },
     "execution_count": 92,
     "metadata": {},
     "output_type": "execute_result"
    }
   ],
   "source": [
    "df1['id'] = df1['id'].astype(str)\n",
    "df2['id'] = df2['id'].astype(str)\n",
    "df = df1.merge(df2, on='id', how='outer')\n",
    "df.shape"
   ]
  },
  {
   "cell_type": "code",
   "execution_count": 94,
   "metadata": {},
   "outputs": [],
   "source": [
    "#df = df.head(20000)\n",
    "df= df[df['original_language'] == 'en']"
   ]
  },
  {
   "cell_type": "code",
   "execution_count": 93,
   "metadata": {},
   "outputs": [
    {
     "data": {
      "text/plain": [
       "32852"
      ]
     },
     "execution_count": 93,
     "metadata": {},
     "output_type": "execute_result"
    }
   ],
   "source": [
    "sum(df['original_language'] == 'en')"
   ]
  },
  {
   "cell_type": "code",
   "execution_count": 95,
   "metadata": {},
   "outputs": [
    {
     "data": {
      "text/plain": [
       "2359"
      ]
     },
     "execution_count": 95,
     "metadata": {},
     "output_type": "execute_result"
    }
   ],
   "source": [
    "sum(df.duplicated(subset='original_title'))"
   ]
  },
  {
   "cell_type": "code",
   "execution_count": 96,
   "metadata": {},
   "outputs": [
    {
     "data": {
      "text/plain": [
       "id                       object\n",
       "keywords                 object\n",
       "adult                    object\n",
       "genres                   object\n",
       "original_language        object\n",
       "original_title           object\n",
       "overview                 object\n",
       "popularity               object\n",
       "production_companies     object\n",
       "production_countries     object\n",
       "release_date             object\n",
       "revenue                 float64\n",
       "runtime                 float64\n",
       "tagline                  object\n",
       "vote_average            float64\n",
       "vote_count              float64\n",
       "dtype: object"
      ]
     },
     "execution_count": 96,
     "metadata": {},
     "output_type": "execute_result"
    }
   ],
   "source": [
    "df = df.drop(columns=['homepage'])\n",
    "df = df.drop(columns=['imdb_id'])\n",
    "df = df.drop(columns=['spoken_languages'])\n",
    "df = df.drop(columns=['video'])\n",
    "df = df.drop(columns=['title'])\n",
    "df = df.drop(columns=['belongs_to_collection'])\n",
    "df = df.drop(columns=['status'])\n",
    "df = df.drop(columns=['poster_path'])\n",
    "df = df.drop(columns=['budget'])\n",
    "\n",
    "df.dtypes"
   ]
  },
  {
   "cell_type": "code",
   "execution_count": 97,
   "metadata": {},
   "outputs": [
    {
     "data": {
      "text/plain": [
       "id                        int64\n",
       "keywords                 object\n",
       "adult                    object\n",
       "genres                   object\n",
       "original_language        object\n",
       "original_title           object\n",
       "overview                 object\n",
       "popularity              float64\n",
       "production_companies     object\n",
       "production_countries     object\n",
       "release_date             object\n",
       "revenue                 float64\n",
       "runtime                 float64\n",
       "tagline                  object\n",
       "vote_average            float64\n",
       "vote_count              float64\n",
       "dtype: object"
      ]
     },
     "execution_count": 97,
     "metadata": {},
     "output_type": "execute_result"
    }
   ],
   "source": [
    "df['id'] = pd.to_numeric(df['id'], errors='coerce')\n",
    "df['popularity'] = pd.to_numeric(df['popularity'], errors='coerce')\n",
    "\n",
    "df.dtypes"
   ]
  },
  {
   "cell_type": "code",
   "execution_count": 98,
   "metadata": {},
   "outputs": [
    {
     "data": {
      "text/plain": [
       "id                          0\n",
       "keywords                    0\n",
       "adult                       0\n",
       "genres                      0\n",
       "original_language           0\n",
       "original_title              0\n",
       "overview                   72\n",
       "popularity                  3\n",
       "production_companies        3\n",
       "production_countries        3\n",
       "release_date               68\n",
       "revenue                     3\n",
       "runtime                     9\n",
       "tagline                 14683\n",
       "vote_average                3\n",
       "vote_count                  3\n",
       "dtype: int64"
      ]
     },
     "execution_count": 98,
     "metadata": {},
     "output_type": "execute_result"
    }
   ],
   "source": [
    "df.isna().sum()"
   ]
  },
  {
   "cell_type": "code",
   "execution_count": 99,
   "metadata": {},
   "outputs": [
    {
     "name": "stdout",
     "output_type": "stream",
     "text": [
      "id                          0\n",
      "keywords                    0\n",
      "adult                       0\n",
      "genres                      0\n",
      "original_language           0\n",
      "original_title              0\n",
      "overview                   72\n",
      "popularity                  0\n",
      "production_companies        3\n",
      "production_countries        3\n",
      "release_date               68\n",
      "revenue                     0\n",
      "runtime                     0\n",
      "tagline                 14683\n",
      "vote_average                0\n",
      "vote_count                  0\n",
      "dtype: int64\n"
     ]
    }
   ],
   "source": [
    "from sklearn.impute import SimpleImputer\n",
    "\n",
    "# Optionally, for numerical columns with NaNs:\n",
    "num_imputer = SimpleImputer(strategy='mean')  # or median, depending on your preference\n",
    "num_cols = df.select_dtypes(include=['float64']).columns\n",
    "\n",
    "df[num_cols] = num_imputer.fit_transform(df[num_cols])\n",
    "\n",
    "# Check for remaining NaNs\n",
    "print(df.isna().sum())"
   ]
  },
  {
   "cell_type": "code",
   "execution_count": 100,
   "metadata": {},
   "outputs": [],
   "source": [
    "from sklearn.preprocessing import LabelEncoder\n",
    "# Create a dictionary of label encoders for each column\n",
    "label_encoders = {}\n",
    "categorical_columns = ['keywords', 'adult', 'genres', 'original_language', 'original_title', 'overview', 'production_companies', 'production_countries', 'release_date', 'tagline']\n",
    "\n",
    "for col in categorical_columns:\n",
    "    le = LabelEncoder()\n",
    "    # Fit the encoder and transform the column (handle missing values as a category)\n",
    "    df[col] = le.fit_transform(df[col].astype(str))\n",
    "    label_encoders[col] = le"
   ]
  },
  {
   "cell_type": "code",
   "execution_count": 101,
   "metadata": {},
   "outputs": [
    {
     "data": {
      "text/plain": [
       "id                        int64\n",
       "keywords                  int64\n",
       "adult                     int64\n",
       "genres                    int64\n",
       "original_language         int64\n",
       "original_title            int64\n",
       "overview                  int64\n",
       "popularity              float64\n",
       "production_companies      int64\n",
       "production_countries      int64\n",
       "release_date              int64\n",
       "revenue                 float64\n",
       "runtime                 float64\n",
       "tagline                   int64\n",
       "vote_average            float64\n",
       "vote_count              float64\n",
       "dtype: object"
      ]
     },
     "execution_count": 101,
     "metadata": {},
     "output_type": "execute_result"
    }
   ],
   "source": [
    "df.dtypes"
   ]
  },
  {
   "cell_type": "code",
   "execution_count": 102,
   "metadata": {},
   "outputs": [
    {
     "data": {
      "text/html": [
       "<div>\n",
       "<style scoped>\n",
       "    .dataframe tbody tr th:only-of-type {\n",
       "        vertical-align: middle;\n",
       "    }\n",
       "\n",
       "    .dataframe tbody tr th {\n",
       "        vertical-align: top;\n",
       "    }\n",
       "\n",
       "    .dataframe thead th {\n",
       "        text-align: right;\n",
       "    }\n",
       "</style>\n",
       "<table border=\"1\" class=\"dataframe\">\n",
       "  <thead>\n",
       "    <tr style=\"text-align: right;\">\n",
       "      <th></th>\n",
       "      <th>id</th>\n",
       "      <th>keywords</th>\n",
       "      <th>adult</th>\n",
       "      <th>genres</th>\n",
       "      <th>original_language</th>\n",
       "      <th>original_title</th>\n",
       "      <th>overview</th>\n",
       "      <th>popularity</th>\n",
       "      <th>production_companies</th>\n",
       "      <th>production_countries</th>\n",
       "      <th>release_date</th>\n",
       "      <th>revenue</th>\n",
       "      <th>runtime</th>\n",
       "      <th>tagline</th>\n",
       "      <th>vote_average</th>\n",
       "      <th>vote_count</th>\n",
       "    </tr>\n",
       "  </thead>\n",
       "  <tbody>\n",
       "    <tr>\n",
       "      <th>0</th>\n",
       "      <td>100</td>\n",
       "      <td>13526</td>\n",
       "      <td>0</td>\n",
       "      <td>2577</td>\n",
       "      <td>0</td>\n",
       "      <td>13769</td>\n",
       "      <td>1259</td>\n",
       "      <td>4.607860</td>\n",
       "      <td>5935</td>\n",
       "      <td>837</td>\n",
       "      <td>8852</td>\n",
       "      <td>3897569.0</td>\n",
       "      <td>105.0</td>\n",
       "      <td>408</td>\n",
       "      <td>7.5</td>\n",
       "      <td>1671.0</td>\n",
       "    </tr>\n",
       "    <tr>\n",
       "      <th>2</th>\n",
       "      <td>10001</td>\n",
       "      <td>4784</td>\n",
       "      <td>0</td>\n",
       "      <td>2587</td>\n",
       "      <td>0</td>\n",
       "      <td>30150</td>\n",
       "      <td>8183</td>\n",
       "      <td>2.562888</td>\n",
       "      <td>15132</td>\n",
       "      <td>95</td>\n",
       "      <td>7197</td>\n",
       "      <td>0.0</td>\n",
       "      <td>91.0</td>\n",
       "      <td>3787</td>\n",
       "      <td>4.5</td>\n",
       "      <td>46.0</td>\n",
       "    </tr>\n",
       "    <tr>\n",
       "      <th>3</th>\n",
       "      <td>100010</td>\n",
       "      <td>9844</td>\n",
       "      <td>0</td>\n",
       "      <td>1250</td>\n",
       "      <td>0</td>\n",
       "      <td>8486</td>\n",
       "      <td>5022</td>\n",
       "      <td>0.769266</td>\n",
       "      <td>8353</td>\n",
       "      <td>1380</td>\n",
       "      <td>1482</td>\n",
       "      <td>0.0</td>\n",
       "      <td>116.0</td>\n",
       "      <td>11873</td>\n",
       "      <td>6.0</td>\n",
       "      <td>1.0</td>\n",
       "    </tr>\n",
       "    <tr>\n",
       "      <th>5</th>\n",
       "      <td>10002</td>\n",
       "      <td>6188</td>\n",
       "      <td>0</td>\n",
       "      <td>1561</td>\n",
       "      <td>0</td>\n",
       "      <td>15255</td>\n",
       "      <td>15354</td>\n",
       "      <td>3.095584</td>\n",
       "      <td>12782</td>\n",
       "      <td>837</td>\n",
       "      <td>6828</td>\n",
       "      <td>5794184.0</td>\n",
       "      <td>104.0</td>\n",
       "      <td>17778</td>\n",
       "      <td>6.7</td>\n",
       "      <td>62.0</td>\n",
       "    </tr>\n",
       "    <tr>\n",
       "      <th>6</th>\n",
       "      <td>100024</td>\n",
       "      <td>6532</td>\n",
       "      <td>0</td>\n",
       "      <td>1737</td>\n",
       "      <td>0</td>\n",
       "      <td>3614</td>\n",
       "      <td>1643</td>\n",
       "      <td>1.099911</td>\n",
       "      <td>0</td>\n",
       "      <td>1257</td>\n",
       "      <td>12711</td>\n",
       "      <td>0.0</td>\n",
       "      <td>100.0</td>\n",
       "      <td>9350</td>\n",
       "      <td>4.3</td>\n",
       "      <td>13.0</td>\n",
       "    </tr>\n",
       "  </tbody>\n",
       "</table>\n",
       "</div>"
      ],
      "text/plain": [
       "       id  keywords  adult  genres  original_language  original_title  \\\n",
       "0     100     13526      0    2577                  0           13769   \n",
       "2   10001      4784      0    2587                  0           30150   \n",
       "3  100010      9844      0    1250                  0            8486   \n",
       "5   10002      6188      0    1561                  0           15255   \n",
       "6  100024      6532      0    1737                  0            3614   \n",
       "\n",
       "   overview  popularity  production_companies  production_countries  \\\n",
       "0      1259    4.607860                  5935                   837   \n",
       "2      8183    2.562888                 15132                    95   \n",
       "3      5022    0.769266                  8353                  1380   \n",
       "5     15354    3.095584                 12782                   837   \n",
       "6      1643    1.099911                     0                  1257   \n",
       "\n",
       "   release_date    revenue  runtime  tagline  vote_average  vote_count  \n",
       "0          8852  3897569.0    105.0      408           7.5      1671.0  \n",
       "2          7197        0.0     91.0     3787           4.5        46.0  \n",
       "3          1482        0.0    116.0    11873           6.0         1.0  \n",
       "5          6828  5794184.0    104.0    17778           6.7        62.0  \n",
       "6         12711        0.0    100.0     9350           4.3        13.0  "
      ]
     },
     "execution_count": 102,
     "metadata": {},
     "output_type": "execute_result"
    }
   ],
   "source": [
    "df.head()"
   ]
  },
  {
   "cell_type": "code",
   "execution_count": 103,
   "metadata": {},
   "outputs": [],
   "source": [
    "from sklearn.impute import KNNImputer\n",
    "imputer = KNNImputer(n_neighbors=10)\n",
    "df = pd.DataFrame(imputer.fit_transform(df), columns=df.columns)"
   ]
  },
  {
   "cell_type": "code",
   "execution_count": 104,
   "metadata": {},
   "outputs": [
    {
     "data": {
      "text/html": [
       "<div>\n",
       "<style scoped>\n",
       "    .dataframe tbody tr th:only-of-type {\n",
       "        vertical-align: middle;\n",
       "    }\n",
       "\n",
       "    .dataframe tbody tr th {\n",
       "        vertical-align: top;\n",
       "    }\n",
       "\n",
       "    .dataframe thead th {\n",
       "        text-align: right;\n",
       "    }\n",
       "</style>\n",
       "<table border=\"1\" class=\"dataframe\">\n",
       "  <thead>\n",
       "    <tr style=\"text-align: right;\">\n",
       "      <th></th>\n",
       "      <th>id</th>\n",
       "      <th>keywords</th>\n",
       "      <th>adult</th>\n",
       "      <th>genres</th>\n",
       "      <th>original_language</th>\n",
       "      <th>original_title</th>\n",
       "      <th>overview</th>\n",
       "      <th>popularity</th>\n",
       "      <th>production_companies</th>\n",
       "      <th>production_countries</th>\n",
       "      <th>release_date</th>\n",
       "      <th>revenue</th>\n",
       "      <th>runtime</th>\n",
       "      <th>tagline</th>\n",
       "      <th>vote_average</th>\n",
       "      <th>vote_count</th>\n",
       "    </tr>\n",
       "  </thead>\n",
       "  <tbody>\n",
       "    <tr>\n",
       "      <th>0</th>\n",
       "      <td>100.0</td>\n",
       "      <td>[{'id': 502, 'name': 'ambush'}, {'id': 567, 'n...</td>\n",
       "      <td>False</td>\n",
       "      <td>[{'id': 35, 'name': 'Comedy'}, {'id': 80, 'nam...</td>\n",
       "      <td>en</td>\n",
       "      <td>Lock, Stock and Two Smoking Barrels</td>\n",
       "      <td>A card sharp and his unwillingly-enlisted frie...</td>\n",
       "      <td>4.607860</td>\n",
       "      <td>[{'name': 'Handmade Films Ltd.', 'id': 146}, {...</td>\n",
       "      <td>[{'iso_3166_1': 'GB', 'name': 'United Kingdom'}]</td>\n",
       "      <td>1998-03-05</td>\n",
       "      <td>3897569.0</td>\n",
       "      <td>105.0</td>\n",
       "      <td>A Disgrace to Criminals Everywhere.</td>\n",
       "      <td>7.5</td>\n",
       "      <td>1671.0</td>\n",
       "    </tr>\n",
       "    <tr>\n",
       "      <th>1</th>\n",
       "      <td>10001.0</td>\n",
       "      <td>[{'id': 1815, 'name': 'atomic bomb'}, {'id': 2...</td>\n",
       "      <td>False</td>\n",
       "      <td>[{'id': 35, 'name': 'Comedy'}, {'id': 878, 'na...</td>\n",
       "      <td>en</td>\n",
       "      <td>Young Einstein</td>\n",
       "      <td>Albert Einstein is the son of a Tasmanian appl...</td>\n",
       "      <td>2.562888</td>\n",
       "      <td>[{'name': 'Warner Bros.', 'id': 6194}]</td>\n",
       "      <td>[{'iso_3166_1': 'AU', 'name': 'Australia'}]</td>\n",
       "      <td>1988-12-15</td>\n",
       "      <td>0.0</td>\n",
       "      <td>91.0</td>\n",
       "      <td>E=mc²</td>\n",
       "      <td>4.5</td>\n",
       "      <td>46.0</td>\n",
       "    </tr>\n",
       "    <tr>\n",
       "      <th>2</th>\n",
       "      <td>100010.0</td>\n",
       "      <td>[{'id': 3203, 'name': 'pilot'}, {'id': 3588, '...</td>\n",
       "      <td>False</td>\n",
       "      <td>[{'id': 18, 'name': 'Drama'}, {'id': 10752, 'n...</td>\n",
       "      <td>en</td>\n",
       "      <td>Flight Command</td>\n",
       "      <td>A rookie flyer, Ens. Alan Drake, joins the fam...</td>\n",
       "      <td>0.769266</td>\n",
       "      <td>[{'name': 'Metro-Goldwyn-Mayer (MGM)', 'id': 8...</td>\n",
       "      <td>[{'iso_3166_1': 'US', 'name': 'United States o...</td>\n",
       "      <td>1940-12-27</td>\n",
       "      <td>0.0</td>\n",
       "      <td>116.0</td>\n",
       "      <td>T-H-R-I-L-L AMERICA! Here come The Flying \"HEL...</td>\n",
       "      <td>6.0</td>\n",
       "      <td>1.0</td>\n",
       "    </tr>\n",
       "    <tr>\n",
       "      <th>3</th>\n",
       "      <td>10002.0</td>\n",
       "      <td>[{'id': 212, 'name': 'london england'}, {'id':...</td>\n",
       "      <td>False</td>\n",
       "      <td>[{'id': 18, 'name': 'Drama'}, {'id': 80, 'name...</td>\n",
       "      <td>en</td>\n",
       "      <td>Mona Lisa</td>\n",
       "      <td>George has just been released from prison, and...</td>\n",
       "      <td>3.095584</td>\n",
       "      <td>[{'name': 'The Criterion Collection', 'id': 10...</td>\n",
       "      <td>[{'iso_3166_1': 'GB', 'name': 'United Kingdom'}]</td>\n",
       "      <td>1986-06-13</td>\n",
       "      <td>5794184.0</td>\n",
       "      <td>104.0</td>\n",
       "      <td>nan</td>\n",
       "      <td>6.7</td>\n",
       "      <td>62.0</td>\n",
       "    </tr>\n",
       "    <tr>\n",
       "      <th>4</th>\n",
       "      <td>100024.0</td>\n",
       "      <td>[{'id': 222018, 'name': 'dangerous side effect...</td>\n",
       "      <td>False</td>\n",
       "      <td>[{'id': 27, 'name': 'Horror'}, {'id': 53, 'nam...</td>\n",
       "      <td>en</td>\n",
       "      <td>Bloodwork</td>\n",
       "      <td>A couple of college students decide to sign up...</td>\n",
       "      <td>1.099911</td>\n",
       "      <td>[]</td>\n",
       "      <td>[{'iso_3166_1': 'US', 'name': 'United States o...</td>\n",
       "      <td>2012-05-10</td>\n",
       "      <td>0.0</td>\n",
       "      <td>100.0</td>\n",
       "      <td>Not Dying Doesn't Mean You're Alive</td>\n",
       "      <td>4.3</td>\n",
       "      <td>13.0</td>\n",
       "    </tr>\n",
       "  </tbody>\n",
       "</table>\n",
       "</div>"
      ],
      "text/plain": [
       "         id                                           keywords  adult  \\\n",
       "0     100.0  [{'id': 502, 'name': 'ambush'}, {'id': 567, 'n...  False   \n",
       "1   10001.0  [{'id': 1815, 'name': 'atomic bomb'}, {'id': 2...  False   \n",
       "2  100010.0  [{'id': 3203, 'name': 'pilot'}, {'id': 3588, '...  False   \n",
       "3   10002.0  [{'id': 212, 'name': 'london england'}, {'id':...  False   \n",
       "4  100024.0  [{'id': 222018, 'name': 'dangerous side effect...  False   \n",
       "\n",
       "                                              genres original_language  \\\n",
       "0  [{'id': 35, 'name': 'Comedy'}, {'id': 80, 'nam...                en   \n",
       "1  [{'id': 35, 'name': 'Comedy'}, {'id': 878, 'na...                en   \n",
       "2  [{'id': 18, 'name': 'Drama'}, {'id': 10752, 'n...                en   \n",
       "3  [{'id': 18, 'name': 'Drama'}, {'id': 80, 'name...                en   \n",
       "4  [{'id': 27, 'name': 'Horror'}, {'id': 53, 'nam...                en   \n",
       "\n",
       "                        original_title  \\\n",
       "0  Lock, Stock and Two Smoking Barrels   \n",
       "1                       Young Einstein   \n",
       "2                       Flight Command   \n",
       "3                            Mona Lisa   \n",
       "4                            Bloodwork   \n",
       "\n",
       "                                            overview  popularity  \\\n",
       "0  A card sharp and his unwillingly-enlisted frie...    4.607860   \n",
       "1  Albert Einstein is the son of a Tasmanian appl...    2.562888   \n",
       "2  A rookie flyer, Ens. Alan Drake, joins the fam...    0.769266   \n",
       "3  George has just been released from prison, and...    3.095584   \n",
       "4  A couple of college students decide to sign up...    1.099911   \n",
       "\n",
       "                                production_companies  \\\n",
       "0  [{'name': 'Handmade Films Ltd.', 'id': 146}, {...   \n",
       "1             [{'name': 'Warner Bros.', 'id': 6194}]   \n",
       "2  [{'name': 'Metro-Goldwyn-Mayer (MGM)', 'id': 8...   \n",
       "3  [{'name': 'The Criterion Collection', 'id': 10...   \n",
       "4                                                 []   \n",
       "\n",
       "                                production_countries release_date    revenue  \\\n",
       "0   [{'iso_3166_1': 'GB', 'name': 'United Kingdom'}]   1998-03-05  3897569.0   \n",
       "1        [{'iso_3166_1': 'AU', 'name': 'Australia'}]   1988-12-15        0.0   \n",
       "2  [{'iso_3166_1': 'US', 'name': 'United States o...   1940-12-27        0.0   \n",
       "3   [{'iso_3166_1': 'GB', 'name': 'United Kingdom'}]   1986-06-13  5794184.0   \n",
       "4  [{'iso_3166_1': 'US', 'name': 'United States o...   2012-05-10        0.0   \n",
       "\n",
       "   runtime                                            tagline  vote_average  \\\n",
       "0    105.0                A Disgrace to Criminals Everywhere.           7.5   \n",
       "1     91.0                                              E=mc²           4.5   \n",
       "2    116.0  T-H-R-I-L-L AMERICA! Here come The Flying \"HEL...           6.0   \n",
       "3    104.0                                                nan           6.7   \n",
       "4    100.0                Not Dying Doesn't Mean You're Alive           4.3   \n",
       "\n",
       "   vote_count  \n",
       "0      1671.0  \n",
       "1        46.0  \n",
       "2         1.0  \n",
       "3        62.0  \n",
       "4        13.0  "
      ]
     },
     "execution_count": 104,
     "metadata": {},
     "output_type": "execute_result"
    }
   ],
   "source": [
    "for col in categorical_columns:\n",
    "    df[col] = label_encoders[col].inverse_transform(df[col].round().astype(int))\n",
    "\n",
    "df.head()"
   ]
  },
  {
   "cell_type": "code",
   "execution_count": 105,
   "metadata": {},
   "outputs": [
    {
     "data": {
      "text/plain": [
       "id                      0\n",
       "keywords                0\n",
       "adult                   0\n",
       "genres                  0\n",
       "original_language       0\n",
       "original_title          0\n",
       "overview                0\n",
       "popularity              0\n",
       "production_companies    0\n",
       "production_countries    0\n",
       "release_date            0\n",
       "revenue                 0\n",
       "runtime                 0\n",
       "tagline                 0\n",
       "vote_average            0\n",
       "vote_count              0\n",
       "dtype: int64"
      ]
     },
     "execution_count": 105,
     "metadata": {},
     "output_type": "execute_result"
    }
   ],
   "source": [
    "df.isna().sum()"
   ]
  },
  {
   "cell_type": "code",
   "execution_count": 106,
   "metadata": {},
   "outputs": [
    {
     "data": {
      "text/html": [
       "<div>\n",
       "<style scoped>\n",
       "    .dataframe tbody tr th:only-of-type {\n",
       "        vertical-align: middle;\n",
       "    }\n",
       "\n",
       "    .dataframe tbody tr th {\n",
       "        vertical-align: top;\n",
       "    }\n",
       "\n",
       "    .dataframe thead th {\n",
       "        text-align: right;\n",
       "    }\n",
       "</style>\n",
       "<table border=\"1\" class=\"dataframe\">\n",
       "  <thead>\n",
       "    <tr style=\"text-align: right;\">\n",
       "      <th></th>\n",
       "      <th>id</th>\n",
       "      <th>keywords</th>\n",
       "      <th>adult</th>\n",
       "      <th>genres</th>\n",
       "      <th>original_language</th>\n",
       "      <th>original_title</th>\n",
       "      <th>overview</th>\n",
       "      <th>popularity</th>\n",
       "      <th>production_companies</th>\n",
       "      <th>production_countries</th>\n",
       "      <th>release_date</th>\n",
       "      <th>revenue</th>\n",
       "      <th>runtime</th>\n",
       "      <th>tagline</th>\n",
       "      <th>vote_average</th>\n",
       "      <th>vote_count</th>\n",
       "    </tr>\n",
       "  </thead>\n",
       "  <tbody>\n",
       "    <tr>\n",
       "      <th>0</th>\n",
       "      <td>100.0</td>\n",
       "      <td>[{'id': 502, 'name': 'ambush'}, {'id': 567, 'n...</td>\n",
       "      <td>False</td>\n",
       "      <td>[{'id': 35, 'name': 'Comedy'}, {'id': 80, 'nam...</td>\n",
       "      <td>en</td>\n",
       "      <td>Lock, Stock and Two Smoking Barrels</td>\n",
       "      <td>A card sharp and his unwillingly-enlisted frie...</td>\n",
       "      <td>4.607860</td>\n",
       "      <td>[{'name': 'Handmade Films Ltd.', 'id': 146}, {...</td>\n",
       "      <td>[{'iso_3166_1': 'GB', 'name': 'United Kingdom'}]</td>\n",
       "      <td>1998-03-05</td>\n",
       "      <td>3897569.0</td>\n",
       "      <td>105.0</td>\n",
       "      <td>A Disgrace to Criminals Everywhere.</td>\n",
       "      <td>7.5</td>\n",
       "      <td>1671.0</td>\n",
       "    </tr>\n",
       "    <tr>\n",
       "      <th>1</th>\n",
       "      <td>10001.0</td>\n",
       "      <td>[{'id': 1815, 'name': 'atomic bomb'}, {'id': 2...</td>\n",
       "      <td>False</td>\n",
       "      <td>[{'id': 35, 'name': 'Comedy'}, {'id': 878, 'na...</td>\n",
       "      <td>en</td>\n",
       "      <td>Young Einstein</td>\n",
       "      <td>Albert Einstein is the son of a Tasmanian appl...</td>\n",
       "      <td>2.562888</td>\n",
       "      <td>[{'name': 'Warner Bros.', 'id': 6194}]</td>\n",
       "      <td>[{'iso_3166_1': 'AU', 'name': 'Australia'}]</td>\n",
       "      <td>1988-12-15</td>\n",
       "      <td>0.0</td>\n",
       "      <td>91.0</td>\n",
       "      <td>E=mc²</td>\n",
       "      <td>4.5</td>\n",
       "      <td>46.0</td>\n",
       "    </tr>\n",
       "    <tr>\n",
       "      <th>2</th>\n",
       "      <td>100010.0</td>\n",
       "      <td>[{'id': 3203, 'name': 'pilot'}, {'id': 3588, '...</td>\n",
       "      <td>False</td>\n",
       "      <td>[{'id': 18, 'name': 'Drama'}, {'id': 10752, 'n...</td>\n",
       "      <td>en</td>\n",
       "      <td>Flight Command</td>\n",
       "      <td>A rookie flyer, Ens. Alan Drake, joins the fam...</td>\n",
       "      <td>0.769266</td>\n",
       "      <td>[{'name': 'Metro-Goldwyn-Mayer (MGM)', 'id': 8...</td>\n",
       "      <td>[{'iso_3166_1': 'US', 'name': 'United States o...</td>\n",
       "      <td>1940-12-27</td>\n",
       "      <td>0.0</td>\n",
       "      <td>116.0</td>\n",
       "      <td>T-H-R-I-L-L AMERICA! Here come The Flying \"HEL...</td>\n",
       "      <td>6.0</td>\n",
       "      <td>1.0</td>\n",
       "    </tr>\n",
       "    <tr>\n",
       "      <th>3</th>\n",
       "      <td>10002.0</td>\n",
       "      <td>[{'id': 212, 'name': 'london england'}, {'id':...</td>\n",
       "      <td>False</td>\n",
       "      <td>[{'id': 18, 'name': 'Drama'}, {'id': 80, 'name...</td>\n",
       "      <td>en</td>\n",
       "      <td>Mona Lisa</td>\n",
       "      <td>George has just been released from prison, and...</td>\n",
       "      <td>3.095584</td>\n",
       "      <td>[{'name': 'The Criterion Collection', 'id': 10...</td>\n",
       "      <td>[{'iso_3166_1': 'GB', 'name': 'United Kingdom'}]</td>\n",
       "      <td>1986-06-13</td>\n",
       "      <td>5794184.0</td>\n",
       "      <td>104.0</td>\n",
       "      <td>nan</td>\n",
       "      <td>6.7</td>\n",
       "      <td>62.0</td>\n",
       "    </tr>\n",
       "    <tr>\n",
       "      <th>4</th>\n",
       "      <td>100024.0</td>\n",
       "      <td>[{'id': 222018, 'name': 'dangerous side effect...</td>\n",
       "      <td>False</td>\n",
       "      <td>[{'id': 27, 'name': 'Horror'}, {'id': 53, 'nam...</td>\n",
       "      <td>en</td>\n",
       "      <td>Bloodwork</td>\n",
       "      <td>A couple of college students decide to sign up...</td>\n",
       "      <td>1.099911</td>\n",
       "      <td>[]</td>\n",
       "      <td>[{'iso_3166_1': 'US', 'name': 'United States o...</td>\n",
       "      <td>2012-05-10</td>\n",
       "      <td>0.0</td>\n",
       "      <td>100.0</td>\n",
       "      <td>Not Dying Doesn't Mean You're Alive</td>\n",
       "      <td>4.3</td>\n",
       "      <td>13.0</td>\n",
       "    </tr>\n",
       "  </tbody>\n",
       "</table>\n",
       "</div>"
      ],
      "text/plain": [
       "         id                                           keywords  adult  \\\n",
       "0     100.0  [{'id': 502, 'name': 'ambush'}, {'id': 567, 'n...  False   \n",
       "1   10001.0  [{'id': 1815, 'name': 'atomic bomb'}, {'id': 2...  False   \n",
       "2  100010.0  [{'id': 3203, 'name': 'pilot'}, {'id': 3588, '...  False   \n",
       "3   10002.0  [{'id': 212, 'name': 'london england'}, {'id':...  False   \n",
       "4  100024.0  [{'id': 222018, 'name': 'dangerous side effect...  False   \n",
       "\n",
       "                                              genres original_language  \\\n",
       "0  [{'id': 35, 'name': 'Comedy'}, {'id': 80, 'nam...                en   \n",
       "1  [{'id': 35, 'name': 'Comedy'}, {'id': 878, 'na...                en   \n",
       "2  [{'id': 18, 'name': 'Drama'}, {'id': 10752, 'n...                en   \n",
       "3  [{'id': 18, 'name': 'Drama'}, {'id': 80, 'name...                en   \n",
       "4  [{'id': 27, 'name': 'Horror'}, {'id': 53, 'nam...                en   \n",
       "\n",
       "                        original_title  \\\n",
       "0  Lock, Stock and Two Smoking Barrels   \n",
       "1                       Young Einstein   \n",
       "2                       Flight Command   \n",
       "3                            Mona Lisa   \n",
       "4                            Bloodwork   \n",
       "\n",
       "                                            overview  popularity  \\\n",
       "0  A card sharp and his unwillingly-enlisted frie...    4.607860   \n",
       "1  Albert Einstein is the son of a Tasmanian appl...    2.562888   \n",
       "2  A rookie flyer, Ens. Alan Drake, joins the fam...    0.769266   \n",
       "3  George has just been released from prison, and...    3.095584   \n",
       "4  A couple of college students decide to sign up...    1.099911   \n",
       "\n",
       "                                production_companies  \\\n",
       "0  [{'name': 'Handmade Films Ltd.', 'id': 146}, {...   \n",
       "1             [{'name': 'Warner Bros.', 'id': 6194}]   \n",
       "2  [{'name': 'Metro-Goldwyn-Mayer (MGM)', 'id': 8...   \n",
       "3  [{'name': 'The Criterion Collection', 'id': 10...   \n",
       "4                                                 []   \n",
       "\n",
       "                                production_countries release_date    revenue  \\\n",
       "0   [{'iso_3166_1': 'GB', 'name': 'United Kingdom'}]   1998-03-05  3897569.0   \n",
       "1        [{'iso_3166_1': 'AU', 'name': 'Australia'}]   1988-12-15        0.0   \n",
       "2  [{'iso_3166_1': 'US', 'name': 'United States o...   1940-12-27        0.0   \n",
       "3   [{'iso_3166_1': 'GB', 'name': 'United Kingdom'}]   1986-06-13  5794184.0   \n",
       "4  [{'iso_3166_1': 'US', 'name': 'United States o...   2012-05-10        0.0   \n",
       "\n",
       "   runtime                                            tagline  vote_average  \\\n",
       "0    105.0                A Disgrace to Criminals Everywhere.           7.5   \n",
       "1     91.0                                              E=mc²           4.5   \n",
       "2    116.0  T-H-R-I-L-L AMERICA! Here come The Flying \"HEL...           6.0   \n",
       "3    104.0                                                nan           6.7   \n",
       "4    100.0                Not Dying Doesn't Mean You're Alive           4.3   \n",
       "\n",
       "   vote_count  \n",
       "0      1671.0  \n",
       "1        46.0  \n",
       "2         1.0  \n",
       "3        62.0  \n",
       "4        13.0  "
      ]
     },
     "execution_count": 106,
     "metadata": {},
     "output_type": "execute_result"
    }
   ],
   "source": [
    "df.head()"
   ]
  },
  {
   "cell_type": "code",
   "execution_count": 107,
   "metadata": {},
   "outputs": [
    {
     "data": {
      "text/plain": [
       "id                      float64\n",
       "keywords                 object\n",
       "adult                    object\n",
       "genres                   object\n",
       "original_language        object\n",
       "original_title           object\n",
       "overview                 object\n",
       "popularity              float64\n",
       "production_companies     object\n",
       "production_countries     object\n",
       "release_date             object\n",
       "revenue                 float64\n",
       "runtime                 float64\n",
       "tagline                  object\n",
       "vote_average            float64\n",
       "vote_count              float64\n",
       "dtype: object"
      ]
     },
     "execution_count": 107,
     "metadata": {},
     "output_type": "execute_result"
    }
   ],
   "source": [
    "df.dtypes"
   ]
  },
  {
   "cell_type": "code",
   "execution_count": 108,
   "metadata": {},
   "outputs": [
    {
     "ename": "",
     "evalue": "",
     "output_type": "error",
     "traceback": [
      "\u001b[1;31mThe Kernel crashed while executing code in the current cell or a previous cell. \n",
      "\u001b[1;31mPlease review the code in the cell(s) to identify a possible cause of the failure. \n",
      "\u001b[1;31mClick <a href='https://aka.ms/vscodeJupyterKernelCrash'>here</a> for more info. \n",
      "\u001b[1;31mView Jupyter <a href='command:jupyter.viewOutput'>log</a> for further details."
     ]
    }
   ],
   "source": [
    "from sklearn.feature_extraction.text import TfidfVectorizer\n",
    "from sklearn.metrics.pairwise import cosine_similarity\n",
    "\n",
    "df['combined_features'] = df['genres'] + ' ' + df['keywords'] + ' ' + df['overview'] + ' ' + df['tagline']\n",
    "\n",
    "tfidf = TfidfVectorizer(stop_words='english', max_features=10000)\n",
    "tfidf_matrix = tfidf.fit_transform(df['combined_features'])\n",
    "\n",
    "cosine_sim = cosine_similarity(tfidf_matrix, tfidf_matrix)"
   ]
  },
  {
   "cell_type": "code",
   "execution_count": 90,
   "metadata": {},
   "outputs": [],
   "source": [
    "def get_recommendations(movie_name, cosine_sim=cosine_sim):\n",
    "    idx = df.index[df['original_title'].str.contains(movie_name, case=False, na=False)].tolist()[0]\n",
    "\n",
    "    sim_scores = list(enumerate(cosine_sim[idx]))\n",
    "\n",
    "    sim_scores = sorted(sim_scores, key=lambda x: x[1], reverse=True)\n",
    "\n",
    "    sim_scores = sim_scores[1:6]\n",
    "\n",
    "    movie_indices = [i[0] for i in sim_scores]\n",
    "\n",
    "    return df['original_title'].iloc[movie_indices]"
   ]
  },
  {
   "cell_type": "code",
   "execution_count": 91,
   "metadata": {},
   "outputs": [
    {
     "name": "stdout",
     "output_type": "stream",
     "text": [
      "Top 5 movies similar to Young Einstein: \n",
      "\n",
      "3264                       I.Q.\n",
      "7847     Einstein and Eddington\n",
      "13349                  Infinity\n",
      "11292     L'Histoire d'Adèle H.\n",
      "19969                  D.C. Cab\n",
      "Name: original_title, dtype: object\n"
     ]
    }
   ],
   "source": [
    "movie_name = 'Young Einstein'\n",
    "recommended_movies = get_recommendations(movie_name)\n",
    "\n",
    "print(\"Top 5 movies similar to {}: \\n\".format(movie_name))\n",
    "print(recommended_movies)"
   ]
  }
 ],
 "metadata": {
  "kernelspec": {
   "display_name": "Python 3",
   "language": "python",
   "name": "python3"
  },
  "language_info": {
   "codemirror_mode": {
    "name": "ipython",
    "version": 3
   },
   "file_extension": ".py",
   "mimetype": "text/x-python",
   "name": "python",
   "nbconvert_exporter": "python",
   "pygments_lexer": "ipython3",
   "version": "3.9.6"
  }
 },
 "nbformat": 4,
 "nbformat_minor": 2
}
